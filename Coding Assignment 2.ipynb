{
 "cells": [
  {
   "cell_type": "markdown",
   "id": "3ad6cda5",
   "metadata": {},
   "source": [
    "# Polynomial Multiplication\n",
    "## Bansharee Ireen\n",
    "\n",
    "### Credit Statement: I worked alone."
   ]
  },
  {
   "cell_type": "code",
   "execution_count": 1,
   "id": "cdff11b5",
   "metadata": {},
   "outputs": [],
   "source": [
    "from math import ceil, floor, log\n",
    "import time\n",
    "import matplotlib.patches as mpatches\n",
    "import matplotlib.pyplot as plt"
   ]
  },
  {
   "cell_type": "markdown",
   "id": "e6865a70",
   "metadata": {},
   "source": [
    "## Problem 1: Polynomial Multiplication\n",
    "\n",
    "### A. Naive Algorithm"
   ]
  },
  {
   "cell_type": "code",
   "execution_count": 2,
   "id": "ddf13cf0",
   "metadata": {},
   "outputs": [],
   "source": [
    "def naiveMult(P, Q):\n",
    "    global runtime\n",
    "    # degree of both P and Q\n",
    "    n = len(P)-1\n",
    "    # the new array with the multiplied coeffecients\n",
    "    R = []\n",
    "    \n",
    "    # until we get k=2n for 2n degree R\n",
    "    for k in range((2*n)+1):\n",
    "        # the coeffecient of the current index\n",
    "        r_k = 0\n",
    "        \n",
    "        # the lower and upper bounds of the range for the loop below\n",
    "        start = 0\n",
    "        end = k+1\n",
    "        \n",
    "        # alter the range only for this case\n",
    "        if k > n:\n",
    "            start = k-n\n",
    "            end = n+1\n",
    "            \n",
    "        # multiply coeffecients of P and Q that satisfy the range defined above\n",
    "        for i in range(start, end):\n",
    "            # incrementing runtime for multiplication\n",
    "            runtime += 1\n",
    "            r_k += P[i]*Q[k-i]\n",
    "            \n",
    "        # incrementing runtime again by number of times the results of the above multiplication got added to each other\n",
    "        runtime += end - start - 1\n",
    "        \n",
    "        R.append(r_k)\n",
    "    \n",
    "    return R"
   ]
  },
  {
   "cell_type": "markdown",
   "id": "a423ab67",
   "metadata": {},
   "source": [
    "### B. Karatsuba's Algorithm"
   ]
  },
  {
   "cell_type": "code",
   "execution_count": 3,
   "id": "3573a262",
   "metadata": {},
   "outputs": [],
   "source": [
    "def KaratMultPoly(P, Q):\n",
    "    global runtime\n",
    "    # degree of both P and Q\n",
    "    n = len(P)-1\n",
    "    \n",
    "    # base case: if small enough, use naive algorithm\n",
    "    if n < 2:\n",
    "        return naiveMult(P, Q)\n",
    "    \n",
    "    # split the arrays\n",
    "    m = ceil(n/2)\n",
    "    \n",
    "    P1 = []\n",
    "    Q1 = []\n",
    "    for i in range(m):\n",
    "        # incrementing runtime for 2 additions each iteration\n",
    "        runtime += 2\n",
    "        P1.append(P[i] + P[m+i])\n",
    "        Q1.append(Q[i] + Q[m+i])\n",
    "        \n",
    "    # add the m-th element based on the case\n",
    "    # case when n = 2m\n",
    "    if n > (2*m - 1):\n",
    "        P1.append(P[n])\n",
    "        Q1.append(Q[n])\n",
    "    # otherwise just pad with 0\n",
    "    else:\n",
    "        P1.append(0)\n",
    "        Q1.append(0)        \n",
    "    \n",
    "    # getting the values recursively\n",
    "    # all three should have length less than 2m+1\n",
    "    R1 = KaratMultPoly(P[:m], Q[:m])\n",
    "    R2 = KaratMultPoly(P[m:], Q[m:])\n",
    "    R3 = KaratMultPoly(P1, Q1)\n",
    "    \n",
    "    pad = 2*m + 1          # the limit for padding\n",
    "    # pad the above three arrays until they have 2m length\n",
    "    while len(R1) < pad:\n",
    "        R1.append(0)\n",
    "    while len(R2) < pad:\n",
    "        R2.append(0)\n",
    "    while len(R3) < pad:\n",
    "        R3.append(0)\n",
    "    \n",
    "    R4 = []\n",
    "    R = []\n",
    "    \n",
    "    for i in range(2*m + 1):\n",
    "        # incrementing runtime for two subtractions\n",
    "        runtime += 2\n",
    "        R4.append(R3[i] - R1[i] - R2[i])\n",
    "        \n",
    "    for i in range(2*n + 1):\n",
    "        r1 = 0\n",
    "        r2 = 0\n",
    "        r4 = 0\n",
    "        \n",
    "        if i < len(R1):\n",
    "            r1 = R1[i]\n",
    "            \n",
    "        if (i-(2*m)) < len(R2) and (i-(2*m)) >= 0:\n",
    "            r2 = R2[i-(2*m)]\n",
    "            \n",
    "        if (i-m) < len(R4) and (i-m) >= 0:\n",
    "            r4 = R4[i-m]\n",
    "        \n",
    "        R.append(r1 + r4 + r2)\n",
    "    \n",
    "    return R"
   ]
  },
  {
   "cell_type": "code",
   "execution_count": 4,
   "id": "e5563359",
   "metadata": {},
   "outputs": [],
   "source": [
    "# some test cases, also tested against my own calculations\n",
    "test = False\n",
    "runtimeTest = False\n",
    "\n",
    "runtime = 0\n",
    "if runtimeTest:\n",
    "    KaratMultPoly([1, 1], [2, 3])\n",
    "    print(runtime)\n",
    "\n",
    "if test:\n",
    "    failed = 0\n",
    "    inputs = [[5, 8, -61, 1000, 7, -90], [500, -76, 1, -1000, 70, 10],\n",
    "              [4, -4, -22, 1, -25], [2, -3, 4, 9, 3], \n",
    "              [1, 3, 1, 2], [2, 1, 2, 1],\n",
    "              [3, 2, 1], [1, 3, 4],\n",
    "              [-1, 2, -8], [17, -9, 3]]\n",
    "    \n",
    "    while inputs:\n",
    "        inp0 = inputs.pop()\n",
    "        inp1 = inputs.pop()\n",
    "        naiveRes = naiveMult(inp0, inp1)\n",
    "        karatRes = KaratMultPoly(inp0, inp1)\n",
    "        print(karatRes)\n",
    "        if naiveRes != karatRes:\n",
    "            failed += 1\n",
    "    \n",
    "    if failed > 0:\n",
    "        print(\"Failed \" + str(failed) + \"/\" + str(len(inputs)) + \" test cases\")\n",
    "    else:\n",
    "        print(\"Passed all test cases!\")\n",
    "\n",
    "        "
   ]
  },
  {
   "cell_type": "markdown",
   "id": "64835ec4",
   "metadata": {},
   "source": [
    "### C. Sum of Squares of Coeffecients of Pi"
   ]
  },
  {
   "cell_type": "code",
   "execution_count": 5,
   "id": "4ba915d8",
   "metadata": {},
   "outputs": [],
   "source": [
    "# assumption: using pi file provided on Canvas, must be placed in same dir as the notebook\n",
    "\n",
    "# this function is taken from the helper.py file on Canvas\n",
    "# has been modified for this assignment\n",
    "\n",
    "# input: positive integer\n",
    "# output: array containing the digits in pi\n",
    "def read_pi(n):\n",
    "    if n < 1:\n",
    "        print('Error: requires a positive integer.')\n",
    "        return []\n",
    "    \n",
    "    #opens the file name \"pi\" and reads the first n digits\n",
    "    #puts it in the list pi, and returns that list\n",
    "    pi = list()\n",
    "    f = open('pi','r')\n",
    "    \n",
    "    for i in range(n):\n",
    "        d = f.read(1)\n",
    "        pi.append(int(d))\n",
    "    f.close()\n",
    "    \n",
    "    return pi"
   ]
  },
  {
   "cell_type": "code",
   "execution_count": 6,
   "id": "80c0a9c8",
   "metadata": {},
   "outputs": [],
   "source": [
    "# input, n: the nth degree of the pi polynomial\n",
    "# output: sum of the squares of the squared polynomial\n",
    "def squarePi(n):\n",
    "    # for nth degree, we need (n+1) digits of pi\n",
    "    k = n+1\n",
    "    pi = read_pi(k)\n",
    "    # square them\n",
    "    r = KaratMultPoly(pi, pi)\n",
    "    \n",
    "    # add their squares\n",
    "    sum = 0\n",
    "    for x in r:\n",
    "        sum += x**2\n",
    "    \n",
    "    return sum"
   ]
  },
  {
   "cell_type": "markdown",
   "id": "999be7c0",
   "metadata": {},
   "source": [
    "### Input Question 1"
   ]
  },
  {
   "cell_type": "code",
   "execution_count": 7,
   "id": "17c77627",
   "metadata": {},
   "outputs": [
    {
     "name": "stdout",
     "output_type": "stream",
     "text": [
      "2193109171093891\n"
     ]
    }
   ],
   "source": [
    "print(squarePi(20000))"
   ]
  },
  {
   "cell_type": "markdown",
   "id": "3695524e",
   "metadata": {},
   "source": [
    "**Answer:** $S_{20000} = 2193109171093891$"
   ]
  },
  {
   "cell_type": "markdown",
   "id": "22c24b97",
   "metadata": {},
   "source": [
    "### D. Time"
   ]
  },
  {
   "cell_type": "markdown",
   "id": "702d360f",
   "metadata": {},
   "source": [
    "#### D.i."
   ]
  },
  {
   "cell_type": "code",
   "execution_count": 8,
   "id": "22ff4dbf",
   "metadata": {},
   "outputs": [],
   "source": [
    "# calculates time taken to run Karatsuba implementation\n",
    "# input: the pi array to multiply\n",
    "# output: the time taken using .time()\n",
    "#\n",
    "def karatTime(pi):\n",
    "    before = time.time()\n",
    "    r = KaratMultPoly(pi, pi)\n",
    "    after = time.time()\n",
    "    \n",
    "    return after-before\n",
    "\n",
    "# calculates time taken to run naive implementation\n",
    "# input: the pi array to multiply\n",
    "# output: the time taken using .time()\n",
    "#\n",
    "def naiveTime(pi):\n",
    "    before = time.time()\n",
    "    r = naiveMult(pi, pi)\n",
    "    after = time.time()\n",
    "    \n",
    "    return after-before"
   ]
  },
  {
   "cell_type": "code",
   "execution_count": 9,
   "id": "dac40609",
   "metadata": {},
   "outputs": [
    {
     "data": {
      "image/png": "[encoded data removed]",
      "text/plain": [
       "<Figure size 640x480 with 1 Axes>"
      ]
     },
     "metadata": {},
     "output_type": "display_data"
    }
   ],
   "source": [
    "# plots the graph\n",
    "# inputs:\n",
    "#        * X: the x coordinates of both the plots\n",
    "#        * Y1: the y coordinates of the first plot\n",
    "#        * Y2: the y coordinates of the second plot\n",
    "#        * label2: the label on the legend for the second plot\n",
    "#        * label1: the label on the legend for the first plot\n",
    "# output: nothing returned, plot displayed\n",
    "#\n",
    "def plot(X, Y1, Y2, label2='Naive Poly Mult', label1='Karatsuba Poly Mult'):\n",
    "    plt.plot(X, Y1, color='teal')       # first plot\n",
    "    plt.plot(X, Y2, color='orange')     # second plot\n",
    "    \n",
    "    # creating the patches for the legend\n",
    "    teal_patch = mpatches.Patch(color='teal', label=label1)\n",
    "    orange_patch = mpatches.Patch(color='orange', label=label2)\n",
    "    \n",
    "    # the legend\n",
    "    plt.legend(handles=[teal_patch, orange_patch])\n",
    "    \n",
    "    plt.show()\n",
    "    \n",
    "\n",
    "# algorithm time taken comparison using .time()\n",
    "# inputs:\n",
    "#        * n: upper bound of the x axis (it must start at 1)\n",
    "#        * jumps: the x value intervals of the x coordinates\n",
    "# output: 2 plots\n",
    "#        * X-axis: numbers 1 to n indicating the size of the pi array\n",
    "#        * Y-axis: time taken by the two implementations\n",
    "#\n",
    "# teal plot: time taken using karatsuba multiplication to run as array size increases\n",
    "# orange plot: time take for naive multiplication to run as array size increases\n",
    "#\n",
    "def graph1(n, jumps):\n",
    "    X = list()\n",
    "    karatY = list()    # y values for the karatsuba plot\n",
    "    naiveY = list()    # y values for the naive plot\n",
    "\n",
    "    \n",
    "    for i in range(1, n+1, jumps):\n",
    "        X.append(i)\n",
    "        \n",
    "        # get the array for the i+1th digits of pi\n",
    "        k = i + 1\n",
    "        pi = read_pi(k)\n",
    "        \n",
    "        # input karatsuba time taken as y value\n",
    "        karat = karatTime(pi)\n",
    "        karatY.append(karat)\n",
    "        \n",
    "        # input naive time taken as other y value\n",
    "        naive = naiveTime(pi)\n",
    "        naiveY.append(naive)\n",
    "    \n",
    "    plot(X, karatY, naiveY)\n",
    "    \n",
    "graph1(10000, 100)"
   ]
  },
  {
   "cell_type": "markdown",
   "id": "9c6b1838",
   "metadata": {},
   "source": [
    "### D.i Input Question\n",
    "**Answer:** $n \\approx 2100$ "
   ]
  },
  {
   "cell_type": "markdown",
   "id": "3c56a818",
   "metadata": {},
   "source": [
    "## D.ii."
   ]
  },
  {
   "cell_type": "code",
   "execution_count": 10,
   "id": "58539641",
   "metadata": {},
   "outputs": [
    {
     "data": {
      "image/png": "[encoded data removed]",
      "text/plain": [
       "<Figure size 640x480 with 1 Axes>"
      ]
     },
     "metadata": {},
     "output_type": "display_data"
    }
   ],
   "source": [
    "# the global runtime\n",
    "runtime = 0\n",
    "\n",
    "# algorithm time taken comparison using operations runtime\n",
    "# inputs:\n",
    "#        * n: upper bound of the x axis (it must start at 1)\n",
    "#        * jumps: the x value intervals of the x coordinates\n",
    "# output: 2 plots\n",
    "#        * X-axis: numbers 1 to n indicating the size of the pi array\n",
    "#        * Y-axis: time taken by the two implementations\n",
    "#\n",
    "# teal plot: time taken using karatsuba multiplication to run as array size increases\n",
    "# orange plot: time take for naive multiplication to run as array size increases\n",
    "#\n",
    "def graph2(n, jumps):\n",
    "    global runtime\n",
    "    X = list()\n",
    "    karatY = list()    # y values for the karatsuba plot\n",
    "    naiveY = list()    # y values for the naive plot\n",
    "\n",
    "    \n",
    "    for i in range(1, n+1, jumps):\n",
    "        X.append(i)\n",
    "        \n",
    "        # get the array for the i+1th digits of pi\n",
    "        k = i + 1\n",
    "        pi = read_pi(k)\n",
    "        \n",
    "        # reset runtime and add it to y karat values\n",
    "        runtime = 0 \n",
    "        r = KaratMultPoly(pi, pi)\n",
    "        run1 = runtime\n",
    "        karatY.append(runtime)\n",
    "        \n",
    "        # reset to 0 against to add new runtime to naive values\n",
    "        runtime = 0\n",
    "        r = naiveMult(pi, pi)\n",
    "        run2 = runtime\n",
    "        naiveY.append(runtime)\n",
    "    \n",
    "    plot(X, karatY, naiveY)\n",
    "    \n",
    "graph2(1000, 5)"
   ]
  },
  {
   "cell_type": "markdown",
   "id": "1942329e",
   "metadata": {},
   "source": [
    "### D.ii Input Question\n",
    "**Answer:** $n \\approx 25$\n",
    "\n",
    "## D.iii."
   ]
  },
  {
   "cell_type": "code",
   "execution_count": 11,
   "id": "67135cd3",
   "metadata": {},
   "outputs": [
    {
     "data": {
      "image/png": "[encoded data removed]",
      "text/plain": [
       "<Figure size 640x480 with 1 Axes>"
      ]
     },
     "metadata": {},
     "output_type": "display_data"
    }
   ],
   "source": [
    "# resetting the global runtime\n",
    "runtime = 0\n",
    "\n",
    "# find the constant C that allows the curve to match that of the Karatsuba polynomial multiplication\n",
    "# input, C: the constant for the curve\n",
    "# output: graph of the two curves closely matched\n",
    "#\n",
    "def findC(C):\n",
    "    global runtime\n",
    "    \n",
    "    if C <= 0:\n",
    "        return None\n",
    "    \n",
    "    # X-axis: numbers 1 to n indicating the size of the pi array\n",
    "    # Y-axis: time taken by the two implementations\n",
    "    X = list()\n",
    "    karatY = list()    # y values for the karatsuba plot\n",
    "    curveY = list()    # y values for the curve\n",
    "    \n",
    "    for i in range(1, 201):\n",
    "        X.append(i)\n",
    "        \n",
    "        # get the array for the i+1th digits of pi\n",
    "        k = i + 1\n",
    "        pi = read_pi(k)\n",
    "        \n",
    "        # reset runtime and add it to y karat values\n",
    "        runtime = 0 \n",
    "        r = KaratMultPoly(pi, pi)\n",
    "        karatY.append(runtime)\n",
    "        \n",
    "        y = C*(i**(log(3, 2)))\n",
    "        curveY.append(y)\n",
    "\n",
    "    plot(X, karatY, curveY, 'Curve')\n",
    "\n",
    "\n",
    "findC(8.5)"
   ]
  },
  {
   "cell_type": "markdown",
   "id": "bed8e733",
   "metadata": {},
   "source": [
    "### D.iii Input Question\n",
    "**Answer:** They match when $C \\approx 8$"
   ]
  }
 ],
 "metadata": {
  "kernelspec": {
   "display_name": "Python 3 (ipykernel)",
   "language": "python",
   "name": "python3"
  },
  "language_info": {
   "codemirror_mode": {
    "name": "ipython",
    "version": 3
   },
   "file_extension": ".py",
   "mimetype": "text/x-python",
   "name": "python",
   "nbconvert_exporter": "python",
   "pygments_lexer": "ipython3",
   "version": "3.10.7"
  }
 },
 "nbformat": 4,
 "nbformat_minor": 5
}
